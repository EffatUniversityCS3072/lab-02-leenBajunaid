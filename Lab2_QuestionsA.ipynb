{
  "cells": [
    {
      "cell_type": "markdown",
      "id": "582fd51e",
      "metadata": {
        "id": "582fd51e"
      },
      "source": [
        "# Lab 2: numpy\n",
        "\n",
        "#### Practice Exercise 1\n",
        "\n",
        "Create the following NumPy arrays:\n",
        "1. A 1-D array called zeros having 10 elements and all the elements are set to zero.\n",
        "2. A 1-D array called vowels having the elements ‘a’, ‘e’, ‘i’, ‘o’ and ‘u’.\n",
        "3. A 2-D array called ones having 2 rows and 5 columns and all the elements are set to 1 and dtype as int.\n",
        "4. Use nested Python lists to create a 2-D array called myarray1 having 3 rows and 3 columns and store the following data: 2.7,  0,  -2,  3.4,  10.6,  0,  -19 99.9 13\n",
        "5. A 2-D array called myarray2 using arange() having 3 rows and 5 columns with start value = 4, step size 4 and dtype as float\n"
      ]
    },
    {
      "cell_type": "code",
      "source": [
        "import numpy as np\n",
        "\n",
        "# Create a 1-D array of zeros\n",
        "zeros = np.zeros(10)\n",
        "print(\"Zeros array:\")\n",
        "print(zeros)\n",
        "\n",
        "# Create a 1-D array of vowels\n",
        "vowels = np.array(['a', 'e', 'i', 'o', 'u'])\n",
        "print(\"\\nVowels array:\")\n",
        "print(vowels)\n",
        "\n",
        "# Create a 2-D array of ones\n",
        "ones = np.ones((2, 5), dtype=int)\n",
        "print(\"\\nOnes array:\")\n",
        "print(ones)\n",
        "\n",
        "# Create a 2-D array using nested lists\n",
        "myarray1 = np.array([[2.7, 0, -2], [3.4, 10.6, 0], [-19, 99.9, 13]])\n",
        "print(\"\\n2-D array myarray1:\")\n",
        "print(myarray1)\n",
        "\n",
        "# Create a 2-D array using arange() that starts at 4, with a step size of 4\n",
        "myarray2 = np.arange(4, 64, 4, dtype=float).reshape(3, 5)\n",
        "print(\"\\n2-D array myarray2:\")\n",
        "print(myarray2)\n"
      ],
      "metadata": {
        "colab": {
          "base_uri": "https://localhost:8080/"
        },
        "id": "I0ocj5u64RHz",
        "outputId": "5f8ca93a-f896-4250-eb9e-b1a3057aa570"
      },
      "id": "I0ocj5u64RHz",
      "execution_count": 4,
      "outputs": [
        {
          "output_type": "stream",
          "name": "stdout",
          "text": [
            "Zeros array:\n",
            "[0. 0. 0. 0. 0. 0. 0. 0. 0. 0.]\n",
            "\n",
            "Vowels array:\n",
            "['a' 'e' 'i' 'o' 'u']\n",
            "\n",
            "Ones array:\n",
            "[[1 1 1 1 1]\n",
            " [1 1 1 1 1]]\n",
            "\n",
            "2-D array myarray1:\n",
            "[[  2.7   0.   -2. ]\n",
            " [  3.4  10.6   0. ]\n",
            " [-19.   99.9  13. ]]\n",
            "\n",
            "2-D array myarray2:\n",
            "[[ 4.  8. 12. 16. 20.]\n",
            " [24. 28. 32. 36. 40.]\n",
            " [44. 48. 52. 56. 60.]]\n"
          ]
        }
      ]
    },
    {
      "cell_type": "markdown",
      "source": [
        "# New section"
      ],
      "metadata": {
        "id": "VXw99fU22wL7"
      },
      "id": "VXw99fU22wL7"
    },
    {
      "cell_type": "code",
      "execution_count": 5,
      "id": "9195d139",
      "metadata": {
        "colab": {
          "base_uri": "https://localhost:8080/"
        },
        "id": "9195d139",
        "outputId": "c851616f-6ff9-4bb1-cefc-b4d32517fa69"
      },
      "outputs": [
        {
          "output_type": "stream",
          "name": "stdout",
          "text": [
            "Information about the arrays:\n",
            "Zeros - dimensions: 1 shape: (10,) size: 10 dtype: float64 itemsize: 8\n",
            "Vowels - dimensions: 1 shape: (5,) size: 5 dtype: <U1 itemsize: 4\n",
            "Ones - dimensions: 2 shape: (2, 5) size: 10 dtype: int64 itemsize: 8\n",
            "Myarray1 - dimensions: 2 shape: (3, 3) size: 9 dtype: float64 itemsize: 8\n",
            "Myarray2 - dimensions: 2 shape: (3, 5) size: 15 dtype: float64 itemsize: 8\n",
            "\n",
            "Reshaped Ones array:\n",
            "[[1 1 1 1 1 1 1 1 1 1]]\n",
            "\n",
            "2nd and 3rd element of vowels: ['e' 'i']\n",
            "\n",
            "2nd and 3rd row of myarray1:\n",
            "[[  3.4  10.6   0. ]\n",
            " [-19.   99.9  13. ]]\n",
            "\n",
            "1st and 2nd column of myarray1:\n",
            "[[  2.7   0. ]\n",
            " [  3.4  10.6]\n",
            " [-19.   99.9]]\n",
            "\n",
            "1st column of the 2nd and 3rd row of myarray1:\n",
            "[  3.4 -19. ]\n",
            "\n",
            "Reversed Vowels array:\n",
            "['u' 'o' 'i' 'e' 'a']\n"
          ]
        }
      ],
      "source": [
        "import numpy as np\n",
        "\n",
        "# Assume the arrays have been created as previously discussed:\n",
        "zeros = np.zeros(10)\n",
        "vowels = np.array(['a', 'e', 'i', 'o', 'u'])\n",
        "ones = np.ones((2, 5), dtype=int)\n",
        "myarray1 = np.array([[2.7, 0, -2], [3.4, 10.6, 0], [-19, 99.9, 13]])\n",
        "myarray2 = np.arange(4, 64, 4, dtype=float).reshape(3, 5)\n",
        "\n",
        "# Information about the arrays\n",
        "print(\"Information about the arrays:\")\n",
        "print(\"Zeros - dimensions:\", zeros.ndim, \"shape:\", zeros.shape, \"size:\", zeros.size, \"dtype:\", zeros.dtype, \"itemsize:\", zeros.itemsize)\n",
        "print(\"Vowels - dimensions:\", vowels.ndim, \"shape:\", vowels.shape, \"size:\", vowels.size, \"dtype:\", vowels.dtype, \"itemsize:\", vowels.itemsize)\n",
        "print(\"Ones - dimensions:\", ones.ndim, \"shape:\", ones.shape, \"size:\", ones.size, \"dtype:\", ones.dtype, \"itemsize:\", ones.itemsize)\n",
        "print(\"Myarray1 - dimensions:\", myarray1.ndim, \"shape:\", myarray1.shape, \"size:\", myarray1.size, \"dtype:\", myarray1.dtype, \"itemsize:\", myarray1.itemsize)\n",
        "print(\"Myarray2 - dimensions:\", myarray2.ndim, \"shape:\", myarray2.shape, \"size:\", myarray2.size, \"dtype:\", myarray2.dtype, \"itemsize:\", myarray2.itemsize)\n",
        "\n",
        "# Reshape the array 'ones' to have all elements in a single row\n",
        "reshaped_ones = ones.reshape(1, 10)\n",
        "print(\"\\nReshaped Ones array:\")\n",
        "print(reshaped_ones)\n",
        "\n",
        "# Display the 2nd and 3rd element of the array 'vowels'\n",
        "print(\"\\n2nd and 3rd element of vowels:\", vowels[1:3])\n",
        "\n",
        "# Display all elements in the 2nd and 3rd row of 'myarray1'\n",
        "print(\"\\n2nd and 3rd row of myarray1:\")\n",
        "print(myarray1[1:3])\n",
        "\n",
        "# Display the elements in the 1st and 2nd column of 'myarray1'\n",
        "print(\"\\n1st and 2nd column of myarray1:\")\n",
        "print(myarray1[:, 0:2])\n",
        "\n",
        "# Display the elements in the 1st column of the 2nd and 3rd row of 'myarray1'\n",
        "print(\"\\n1st column of the 2nd and 3rd row of myarray1:\")\n",
        "print(myarray1[1:3, 0])\n",
        "\n",
        "# Reverse the array 'vowels'\n",
        "reversed_vowels = vowels[::-1]\n",
        "print(\"\\nReversed Vowels array:\")\n",
        "print(reversed_vowels)\n",
        "\n",
        "\n",
        "\n"
      ]
    },
    {
      "cell_type": "markdown",
      "id": "2d3fc3a8",
      "metadata": {
        "id": "2d3fc3a8"
      },
      "source": [
        "Using the arrays created in Question above, write NumPy commands for the following:\n",
        "1. Find the dimensions, shape, size, data type of the items and itemsize of arrays zeros, vowels, ones, myarray1 and myarray2.\n",
        "2. Reshape the array ones to have all the 10 elements in a single row.\n",
        "3. Display the 2nd and 3rd element of the array vowels.\n",
        "4. Display all elements in the 2nd and 3rd row of the array myarray1.\n",
        "5. Display the elements in the 1st and 2nd column of the array myarray1.\n",
        "6. Display the elements in the 1st column of the 2nd and 3rd row of the array myarray1.\n",
        "7. Reverse the array of vowels."
      ]
    },
    {
      "cell_type": "code",
      "execution_count": 6,
      "id": "fc69c3db",
      "metadata": {
        "colab": {
          "base_uri": "https://localhost:8080/"
        },
        "id": "fc69c3db",
        "outputId": "ac789305-0098-41fb-8b9e-b60286e1b0a3"
      },
      "outputs": [
        {
          "output_type": "stream",
          "name": "stdout",
          "text": [
            "Array: [0. 0. 0. 0. 0. 0. 0. 0. 0. 0.]\n",
            "Dimensions: 1, Shape: (10,), Size: 10, Dtype: float64, Itemsize: 8\n",
            "\n",
            "Array: ['a' 'e' 'i' 'o' 'u']\n",
            "Dimensions: 1, Shape: (5,), Size: 5, Dtype: <U1, Itemsize: 4\n",
            "\n",
            "Array: [[1 1 1 1 1]\n",
            " [1 1 1 1 1]]\n",
            "Dimensions: 2, Shape: (2, 5), Size: 10, Dtype: int64, Itemsize: 8\n",
            "\n",
            "Array: [[  2.7   0.   -2. ]\n",
            " [  3.4  10.6   0. ]\n",
            " [-19.   99.9  13. ]]\n",
            "Dimensions: 2, Shape: (3, 3), Size: 9, Dtype: float64, Itemsize: 8\n",
            "\n",
            "Array: [[ 4.  8. 12. 16. 20.]\n",
            " [24. 28. 32. 36. 40.]\n",
            " [44. 48. 52. 56. 60.]]\n",
            "Dimensions: 2, Shape: (3, 5), Size: 15, Dtype: float64, Itemsize: 8\n",
            "\n",
            "Reshaped Ones: [[1 1 1 1 1 1 1 1 1 1]]\n",
            "Vowels elements: ['e' 'i']\n",
            "Rows 2 and 3 of myarray1: [[  3.4  10.6   0. ]\n",
            " [-19.   99.9  13. ]]\n",
            "Columns 1 and 2 of myarray1: [[  2.7   0. ]\n",
            " [  3.4  10.6]\n",
            " [-19.   99.9]]\n",
            "Column 1, Rows 2 and 3 of myarray1: [  3.4 -19. ]\n",
            "Reversed vowels: ['u' 'o' 'i' 'e' 'a']\n"
          ]
        }
      ],
      "source": [
        "#Write your answer here\n",
        "\n",
        "import numpy as np\n",
        "\n",
        "# Assume the arrays have been created as previously discussed:\n",
        "zeros = np.zeros(10)\n",
        "vowels = np.array(['a', 'e', 'i', 'o', 'u'])\n",
        "ones = np.ones((2, 5), dtype=int)\n",
        "myarray1 = np.array([[2.7, 0, -2], [3.4, 10.6, 0], [-19, 99.9, 13]])\n",
        "myarray2 = np.arange(4, 64, 4, dtype=float).reshape(3, 5)\n",
        "\n",
        "# Display array properties\n",
        "arrays = [zeros, vowels, ones, myarray1, myarray2]\n",
        "for arr in arrays:\n",
        "    print(f\"Array: {arr}\\nDimensions: {arr.ndim}, Shape: {arr.shape}, Size: {arr.size}, Dtype: {arr.dtype}, Itemsize: {arr.itemsize}\\n\")\n",
        "\n",
        "# Reshape ones\n",
        "ones_reshaped = ones.reshape(1, 10)\n",
        "print(\"Reshaped Ones:\", ones_reshaped)\n",
        "\n",
        "# Elements of vowels\n",
        "print(\"Vowels elements:\", vowels[1:3])\n",
        "\n",
        "# Elements of myarray1 (rows and columns)\n",
        "print(\"Rows 2 and 3 of myarray1:\", myarray1[1:3])\n",
        "print(\"Columns 1 and 2 of myarray1:\", myarray1[:, :2])\n",
        "print(\"Column 1, Rows 2 and 3 of myarray1:\", myarray1[1:3, 0])\n",
        "\n",
        "# Reverse vowels\n",
        "print(\"Reversed vowels:\", vowels[::-1])\n"
      ]
    },
    {
      "cell_type": "markdown",
      "id": "e1edb3bb",
      "metadata": {
        "id": "e1edb3bb"
      },
      "source": [
        "Using the arrays created in Question above, write NumPy commands for the following:\n",
        "1. Divide all elements of array ones by 3.\n",
        "2. Add the arrays myarray1 and myarray2.\n",
        "3. Subtract myarray1 from myarray2 and store the result in a new array.\n",
        "4. Multiply myarray1 and myarray2 elementwise.\n",
        "5. Do the matrix multiplication of myarray1 and myarray2 and store the result in a new array myarray3.\n",
        "6. Divide myarray1 by myarray2.\n",
        "7. Find the cube of all elements of myarray1 and divide the resulting array by 2.\n",
        "8. Find the square root of all elements of myarray2   and divide the resulting array by 2. The result  should be rounded to two places of decimals."
      ]
    },
    {
      "cell_type": "code",
      "execution_count": 8,
      "id": "3c933386",
      "metadata": {
        "colab": {
          "base_uri": "https://localhost:8080/"
        },
        "id": "3c933386",
        "outputId": "0e57aef8-2246-4810-e9be-63cdbdadbbac"
      },
      "outputs": [
        {
          "output_type": "stream",
          "name": "stdout",
          "text": [
            "Result of matrix multiplication (myarray3):\n",
            "[[-1.3200e+01  8.0000e-01  1.4800e+01]\n",
            " [ 9.8400e+01  3.7840e+02  6.5840e+02]\n",
            " [ 8.7920e+02  2.7572e+03  4.6352e+03]]\n"
          ]
        }
      ],
      "source": [
        "import numpy as np\n",
        "\n",
        "# Define the arrays\n",
        "myarray1 = np.array([[2.7, 0, -2], [3.4, 10.6, 0], [-19, 99.9, 13]])\n",
        "myarray2 = np.arange(4, 64, 4, dtype=float).reshape(3, 5)\n",
        "\n",
        "# Corrected matrix multiplication:\n",
        "# We can only use a portion of myarray2 that makes the inner dimensions match.\n",
        "# For example, use the first three columns of myarray2\n",
        "myarray2_portion = myarray2[:, :3]\n",
        "myarray3 = np.dot(myarray1, myarray2_portion.T)  # Now myarray2_portion.T is 3x3\n",
        "\n",
        "print(\"Result of matrix multiplication (myarray3):\")\n",
        "print(myarray3)\n"
      ]
    },
    {
      "cell_type": "markdown",
      "id": "d8aafc74",
      "metadata": {
        "id": "d8aafc74"
      },
      "source": [
        "Using the arrays created above, write NumPy commands for the following:\n",
        "1. Find the transpose of ones and myarray2.\n",
        "2. Sort the array vowels in reverse.\n",
        "3. Sort the array myarray1 such that it brings the lowest value of the column in the first row and so on."
      ]
    },
    {
      "cell_type": "code",
      "execution_count": 9,
      "id": "573c6506",
      "metadata": {
        "colab": {
          "base_uri": "https://localhost:8080/"
        },
        "id": "573c6506",
        "outputId": "5ebb73aa-1876-4205-d6a9-f9c875c00ada"
      },
      "outputs": [
        {
          "output_type": "stream",
          "name": "stdout",
          "text": [
            "Transpose of ones:\n",
            "[[1 1]\n",
            " [1 1]\n",
            " [1 1]\n",
            " [1 1]\n",
            " [1 1]]\n",
            "Transpose of myarray2:\n",
            "[[ 4. 24. 44.]\n",
            " [ 8. 28. 48.]\n",
            " [12. 32. 52.]\n",
            " [16. 36. 56.]\n",
            " [20. 40. 60.]]\n",
            "Vowels sorted in reverse:\n",
            "['u' 'o' 'i' 'e' 'a']\n",
            "myarray1 sorted by columns (lowest value in the first row):\n",
            "[[-19.    0.   -2. ]\n",
            " [  2.7  10.6   0. ]\n",
            " [  3.4  99.9  13. ]]\n"
          ]
        }
      ],
      "source": [
        "# Write your answer here\n",
        "\n",
        "import numpy as np\n",
        "\n",
        "# Assume the arrays have been created as previously discussed:\n",
        "ones = np.ones((2, 5), dtype=int)\n",
        "myarray2 = np.arange(4, 64, 4, dtype=float).reshape(3, 5)\n",
        "vowels = np.array(['a', 'e', 'i', 'o', 'u'])\n",
        "myarray1 = np.array([[2.7, 0, -2], [3.4, 10.6, 0], [-19, 99.9, 13]])\n",
        "\n",
        "# Transpose of arrays ones and myarray2\n",
        "transpose_ones = ones.T\n",
        "transpose_myarray2 = myarray2.T\n",
        "\n",
        "# Sort the array vowels in reverse\n",
        "sorted_vowels_reverse = np.sort(vowels)[::-1]\n",
        "\n",
        "# Sort array myarray1 on columns (ascending)\n",
        "sorted_myarray1 = np.sort(myarray1, axis=0)\n",
        "\n",
        "print(\"Transpose of ones:\")\n",
        "print(transpose_ones)\n",
        "\n",
        "print(\"Transpose of myarray2:\")\n",
        "print(transpose_myarray2)\n",
        "\n",
        "print(\"Vowels sorted in reverse:\")\n",
        "print(sorted_vowels_reverse)\n",
        "\n",
        "print(\"myarray1 sorted by columns (lowest value in the first row):\")\n",
        "print(sorted_myarray1)\n",
        "\n"
      ]
    },
    {
      "cell_type": "markdown",
      "id": "93546856",
      "metadata": {
        "id": "93546856"
      },
      "source": [
        "Create a 2-D array called myarray4 using arange() having 14 rows and 3 columns with start value = -1, step size 0.25 having. Split this array row wise into 3 equal parts and print the result."
      ]
    },
    {
      "cell_type": "code",
      "execution_count": 10,
      "id": "441dd934",
      "metadata": {
        "colab": {
          "base_uri": "https://localhost:8080/"
        },
        "id": "441dd934",
        "outputId": "2593d20d-ea26-45fd-87a7-4b58ccde8d84"
      },
      "outputs": [
        {
          "output_type": "stream",
          "name": "stdout",
          "text": [
            "Part 1:\n",
            "[[-1.   -0.75 -0.5 ]\n",
            " [-0.25  0.    0.25]\n",
            " [ 0.5   0.75  1.  ]\n",
            " [ 1.25  1.5   1.75]\n",
            " [ 2.    2.25  2.5 ]]\n",
            "\n",
            "Part 2:\n",
            "[[2.75 3.   3.25]\n",
            " [3.5  3.75 4.  ]\n",
            " [4.25 4.5  4.75]\n",
            " [5.   5.25 5.5 ]\n",
            " [5.75 6.   6.25]]\n",
            "\n",
            "Part 3:\n",
            "[[6.5  6.75 7.  ]\n",
            " [7.25 7.5  7.75]\n",
            " [8.   8.25 8.5 ]\n",
            " [8.75 9.   9.25]]\n",
            "\n"
          ]
        }
      ],
      "source": [
        "# Write your answer here\n",
        "import numpy as np\n",
        "\n",
        "# Calculate the stop value for np.arange\n",
        "start_value = -1\n",
        "step_size = 0.25\n",
        "num_elements = 14 * 3  # because we need 14 rows of 3 columns\n",
        "stop_value = start_value + step_size * num_elements\n",
        "\n",
        "# Create the 2-D array myarray4\n",
        "myarray4 = np.arange(start_value, stop_value, step_size).reshape(14, 3)\n",
        "\n",
        "# Split the array row-wise into 3 equal parts\n",
        "split_arrays = np.array_split(myarray4, 3)\n",
        "\n",
        "# Print each of the resulting parts\n",
        "for index, part in enumerate(split_arrays):\n",
        "    print(f\"Part {index + 1}:\")\n",
        "    print(part)\n",
        "    print()  # For better readability between parts\n",
        "\n",
        "\n"
      ]
    },
    {
      "cell_type": "markdown",
      "id": "c8cdbaff",
      "metadata": {
        "id": "c8cdbaff"
      },
      "source": [
        "Using the myarray4 created in the above questions, write commands for the following:\n",
        "1. Find the sum of all elements.\n",
        "2. Find the sum of all elements row wise\n",
        "3. Find the sum of all elements column wise.\n",
        "4. Find the max of all elements.\n",
        "5. Find the min of all elements in each row.\n",
        "6. Find the mean of all elements in each row.\n",
        "7. Find the standard deviation column wise."
      ]
    },
    {
      "cell_type": "code",
      "execution_count": 13,
      "id": "66af8b55",
      "metadata": {
        "colab": {
          "base_uri": "https://localhost:8080/"
        },
        "id": "66af8b55",
        "outputId": "48145bb5-36bf-40d0-858b-cb7f919eaabe"
      },
      "outputs": [
        {
          "output_type": "stream",
          "name": "stdout",
          "text": [
            "Sum of all elements: 173.25\n",
            "Sum of all elements row-wise: [-2.25  0.    2.25  4.5   6.75  9.   11.25 13.5  15.75 18.   20.25 22.5\n",
            " 24.75 27.  ]\n",
            "Sum of all elements column-wise: [54.25 57.75 61.25]\n",
            "Max of all elements: 9.25\n",
            "Min of all elements in each row: [-1.   -0.25  0.5   1.25  2.    2.75  3.5   4.25  5.    5.75  6.5   7.25\n",
            "  8.    8.75]\n",
            "Mean of all elements in each row: [-0.75  0.    0.75  1.5   2.25  3.    3.75  4.5   5.25  6.    6.75  7.5\n",
            "  8.25  9.  ]\n",
            "Standard deviation column-wise: [3.02334666 3.02334666 3.02334666]\n"
          ]
        }
      ],
      "source": [
        "#import numpy as np\n",
        "\n",
        "# Define the arrays\n",
        "start_value = -1\n",
        "step_size = 0.25\n",
        "num_elements = 14 * 3  # because we need 14 rows of 3 columns\n",
        "stop_value = start_value + step_size * num_elements\n",
        "myarray4 = np.arange(start_value, stop_value, step_size).reshape(14, 3)\n",
        "\n",
        "# Calculate various statistics\n",
        "total_sum = np.sum(myarray4)\n",
        "row_sum = np.sum(myarray4, axis=1)\n",
        "column_sum = np.sum(myarray4, axis=0)\n",
        "max_value = np.max(myarray4)\n",
        "row_min = np.min(myarray4, axis=1)\n",
        "row_mean = np.mean(myarray4, axis=1)\n",
        "column_std = np.std(myarray4, axis=0)\n",
        "\n",
        "# Printing the results\n",
        "print(\"Sum of all elements:\", total_sum)\n",
        "print(\"Sum of all elements row-wise:\", row_sum)\n",
        "print(\"Sum of all elements column-wise:\", column_sum)\n",
        "print(\"Max of all elements:\", max_value)\n",
        "print(\"Min of all elements in each row:\", row_min)\n",
        "print(\"Mean of all elements in each row:\", row_mean)\n",
        "print(\"Standard deviation column-wise:\", column_std)\n",
        "\n",
        "\n"
      ]
    },
    {
      "cell_type": "markdown",
      "id": "8d7e1dca",
      "metadata": {
        "id": "8d7e1dca"
      },
      "source": [
        "#### Practice Exercise 2\n",
        "Read the coordinates of the capital cities of the world from the country-capital-lat-long-population.csv file. Use NumPy to print the name and coordinates of the capital city closest to the Saudi Arabia capital - Riyadh.\n",
        "\n",
        "Note that:\n",
        "\n",
        "1. The Country Name for Saudi Arabia is given as Saudi Arabia in the data.\n",
        "2. The ‘closeness’ of capital cities from the Saudi Arabia capital is based on the Euclidean distance of their coordinates to those of the Saudi Arabia capital.\n",
        "\n",
        "\n",
        "Hints:\n",
        "\n",
        "1. Use read_html() from the Pandas library to read the table.\n",
        "2. Use the to_numpy() function of the Pandas DataFrame class to convert a DataFrame to a Numpy array\n",
        "3. Use broadcasting to compute the euclidean distance of capital cities from Riyadh."
      ]
    },
    {
      "cell_type": "code",
      "execution_count": 19,
      "id": "ab6b9725",
      "metadata": {
        "colab": {
          "base_uri": "https://localhost:8080/"
        },
        "id": "ab6b9725",
        "outputId": "610e717b-f6c8-49f7-e246-b034c58dc579"
      },
      "outputs": [
        {
          "output_type": "stream",
          "name": "stdout",
          "text": [
            "/content\n",
            "Current working directory: /content\n",
            "File loaded successfully!\n",
            "An error occurred: \"None of [Index(['CountryName', 'CapitalName', 'CapitalLatitude', 'CapitalLongitude'], dtype='object')] are in the [columns]\"\n"
          ]
        }
      ],
      "source": [
        "import os\n",
        "print(os.getcwd())\n",
        "file_path = 'country-capital-lat-long-population.csv'  # Direct filename if in the same directory\n",
        "data = pd.read_csv(file_path)\n",
        "\n",
        "import pandas as pd\n",
        "import numpy as np\n",
        "import os\n",
        "\n",
        "# Check the current working directory to understand where the file should be located\n",
        "print(\"Current working directory:\", os.getcwd())\n",
        "\n",
        "# Specify the file path (update this with the actual path or use just the filename if in the same directory)\n",
        "file_path = 'country-capital-lat-long-population.csv'\n",
        "\n",
        "# Try to load the data\n",
        "try:\n",
        "    data = pd.read_csv(file_path)\n",
        "    print(\"File loaded successfully!\")\n",
        "\n",
        "    # Extract the relevant columns and convert to a NumPy array\n",
        "    capitals = data[['CountryName', 'CapitalName', 'CapitalLatitude', 'CapitalLongitude']].to_numpy()\n",
        "\n",
        "    # Find Riyadh's coordinates in the array\n",
        "    riyadh_coords = capitals[capitals[:, 1] == 'Riyadh', 2:].astype(float)\n",
        "\n",
        "    # Calculate Euclidean distances from Riyadh to all other capitals\n",
        "    distances = np.sqrt(np.sum((capitals[:, 2:].astype(float) - riyadh_coords) ** 2, axis=1))\n",
        "\n",
        "    # Find the index of the minimum distance\n",
        "    closest_index = np.argmin(distances)\n",
        "\n",
        "    # Print the name and coordinates of the closest capital city\n",
        "    closest_city = capitals[closest_index]\n",
        "    print(f\"The closest capital city to Riyadh is {closest_city[1]} in {closest_city[0]}, Coordinates: Lat {closest_city[2]}, Long {closest_city[3]}\")\n",
        "\n",
        "except FileNotFoundError:\n",
        "    print(f\"FileNotFoundError: No such file or directory: '{file_path}' - Please check the file path and try again.\")\n",
        "except Exception as e:\n",
        "    print(f\"An error occurred: {e}\")\n",
        "\n"
      ]
    },
    {
      "cell_type": "markdown",
      "id": "1fdbec05",
      "metadata": {
        "id": "1fdbec05"
      },
      "source": [
        "#### Practical Exercise 2\n",
        "\n",
        "Use NumPy to:\n",
        "\n",
        "1. Print the names of the countries of the top 10 capital cities closest to the US capital - Washington DC.\n",
        "\n",
        "2. Create and print a NumPy array containing the coordinates of the top 10 cities."
      ]
    },
    {
      "cell_type": "code",
      "execution_count": 26,
      "id": "45046a85",
      "metadata": {
        "colab": {
          "base_uri": "https://localhost:8080/"
        },
        "id": "45046a85",
        "outputId": "f44bbc86-df1f-453c-d471-3f016910ffd0"
      },
      "outputs": [
        {
          "output_type": "stream",
          "name": "stdout",
          "text": [
            "\n",
            "Top 10 closest countries to Washington D.C. are:\n",
            "['United States of America' 'Canada' 'Bahamas' 'Bermuda' 'Cuba'\n",
            " 'Turks and Caicos Islands' 'Cayman Islands' 'Haiti' 'Jamaica'\n",
            " 'Dominican Republic']\n",
            "\n",
            "Coordinates of the top 10 closest capital cities:\n",
            "[[ 38.8951 -77.0364]\n",
            " [ 45.4166 -75.698 ]\n",
            " [ 25.0582 -77.3431]\n",
            " [ 32.2915 -64.778 ]\n",
            " [ 23.1195 -82.3785]\n",
            " [ 21.4612 -71.1419]\n",
            " [ 19.2866 -81.3744]\n",
            " [ 18.5392 -72.335 ]\n",
            " [ 17.997  -76.7936]\n",
            " [ 18.4896 -69.9018]]\n"
          ]
        }
      ],
      "source": [
        "import pandas as pd\n",
        "import numpy as np\n",
        "\n",
        "# Load the data\n",
        "file_path = 'country-capital-lat-long-population.csv'\n",
        "data = pd.read_csv(file_path)\n",
        "\n",
        "# Extract the relevant columns and convert to a NumPy array\n",
        "# Use the correct column names from your dataset\n",
        "capitals = data[['Country', 'Capital City', 'Latitude', 'Longitude']].to_numpy()\n",
        "\n",
        "# Coordinates of Washington D.C.\n",
        "washington_dc_coords = np.array([38.9072, -77.0369])\n",
        "\n",
        "# Calculate Euclidean distances to Washington D.C.\n",
        "distances = np.sqrt(np.sum((capitals[:, 2:].astype(float) - washington_dc_coords) ** 2, axis=1))\n",
        "\n",
        "# Get indices of the 10 closest capitals\n",
        "closest_indices = np.argsort(distances)[:10]\n",
        "\n",
        "# Print the names of the countries of the top 10 closest capitals\n",
        "closest_countries = capitals[closest_indices, 0]\n",
        "print(\"\\nTop 10 closest countries to Washington D.C. are:\")\n",
        "print(closest_countries)\n",
        "\n",
        "# Create and print a NumPy array containing the coordinates of the top 10 cities\n",
        "top_10_coordinates = capitals[closest_indices, 2:].astype(float)\n",
        "print(\"\\nCoordinates of the top 10 closest capital cities:\")\n",
        "print(top_10_coordinates)\n",
        "\n",
        "\n"
      ]
    }
  ],
  "metadata": {
    "kernelspec": {
      "display_name": "Python 3 (ipykernel)",
      "language": "python",
      "name": "python3"
    },
    "language_info": {
      "codemirror_mode": {
        "name": "ipython",
        "version": 3
      },
      "file_extension": ".py",
      "mimetype": "text/x-python",
      "name": "python",
      "nbconvert_exporter": "python",
      "pygments_lexer": "ipython3",
      "version": "3.9.13"
    },
    "colab": {
      "provenance": [],
      "toc_visible": true
    }
  },
  "nbformat": 4,
  "nbformat_minor": 5
}